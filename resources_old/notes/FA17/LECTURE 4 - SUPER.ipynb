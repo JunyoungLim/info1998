{
 "cells": [
  {
   "cell_type": "markdown",
   "metadata": {},
   "source": [
    "# Introduction to Supervised Learning\n",
    "\n",
    "So far we have discussed the importance of data visualization and data preprocessing. These steps are important in preparing datasets for statistical analysis and machine learning. We will now start our machine learning section of the course. The main focus of this class is on a field of machine learning called __supervised learning__ and thus we will devote a significant portion of the remaining lecture series on this topic. \n",
    "\n",
    "In order to understand what supervised learning is, instead of explaining the theory right from the start, we will dive straight into an example (with accompanying code)"
   ]
  },
  {
   "cell_type": "markdown",
   "metadata": {},
   "source": [
    "### Supervised learning on the California housing dataset\n",
    "We will be using the diabetes dataset included in the datasets module in the sklearn package. This module includes several toy datasets that have been very well-studied in the past. It is often a good idea to start learning machine learning using these datasets, and students are encouraged to try out some if not all of these datasets."
   ]
  },
  {
   "cell_type": "code",
   "execution_count": 2,
   "metadata": {},
   "outputs": [
    {
     "name": "stdout",
     "output_type": "stream",
     "text": [
      "downloading Cal. housing from http://www.dcc.fc.up.pt/~ltorgo/Regression/cal_housing.tgz to /home/cai29/scikit_learn_data\n"
     ]
    }
   ],
   "source": [
    "import sklearn.datasets\n",
    "import numpy as np\n",
    "import pandas as pd\n",
    "\n",
    "cali_data = sklearn.datasets.fetch_california_housing()\n",
    "\n",
    "description = cali_data.DESCR\n",
    "cali_features = pd.DataFrame(cali_data.data)\n",
    "cali_target = pd.Series(cali_data.target)\n",
    "\n",
    "cali_features.columns = cali_data.feature_names"
   ]
  },
  {
   "cell_type": "markdown",
   "metadata": {},
   "source": [
    "So notice that there are three parts of the dataset downloaded here: The __descriptions__, the __data__, and the __target__ variable.\n",
    "\n",
    "In many cases the target variable is usually part of the data portion, but the sklearn package conveniently has them as separate fields for the downloaded object. So what is the target variable? Let's say it is the variable that is the target of __predictions__. The characteristics of target variables will be discussed in a section later in this lecture. But for now, let's gather some more information from the data.\n",
    "\n",
    "\n",
    "The convenient part of using the datasets module is that usually datasets obtained using this API provides dataset descriptions. Let's look at this one's description:"
   ]
  },
  {
   "cell_type": "code",
   "execution_count": 3,
   "metadata": {},
   "outputs": [
    {
     "name": "stdout",
     "output_type": "stream",
     "text": [
      "California housing dataset.\n",
      "\n",
      "The original database is available from StatLib\n",
      "\n",
      "    http://lib.stat.cmu.edu/\n",
      "\n",
      "The data contains 20,640 observations on 9 variables.\n",
      "\n",
      "This dataset contains the average house value as target variable\n",
      "and the following input variables (features): average income,\n",
      "housing average age, average rooms, average bedrooms, population,\n",
      "average occupation, latitude, and longitude in that order.\n",
      "\n",
      "References\n",
      "----------\n",
      "\n",
      "Pace, R. Kelley and Ronald Barry, Sparse Spatial Autoregressions,\n",
      "Statistics and Probability Letters, 33 (1997) 291-297.\n",
      "\n",
      "\n",
      "['MedInc', 'HouseAge', 'AveRooms', 'AveBedrms', 'Population', 'AveOccup', 'Latitude', 'Longitude']\n"
     ]
    }
   ],
   "source": [
    "print(cali_data.DESCR)\n",
    "print(cali_data.feature_names)"
   ]
  },
  {
   "cell_type": "markdown",
   "metadata": {},
   "source": [
    "So this dataset has 20,640 data points The features available are house age, lat, long, and Population and etc. We know that the target variable is house value. Also judging from this fact, we can reasonably expect to have the target variable be a non-categorical, continuous variable. Let's check that by doing a unique function on the target, and see what's going on. Another way we can see the target variable is a histogram (as we've discussed in lecture 3 as a method of visualization)"
   ]
  },
  {
   "cell_type": "code",
   "execution_count": 4,
   "metadata": {},
   "outputs": [
    {
     "name": "stdout",
     "output_type": "stream",
     "text": [
      "[ 0.14999  0.175    0.225   ...,  4.991    5.       5.00001]\n"
     ]
    },
    {
     "data": {
      "image/png": "[encoded data removed]",
      "text/plain": [
       "<matplotlib.figure.Figure at 0x7f45f0f4db70>"
      ]
     },
     "metadata": {},
     "output_type": "display_data"
    }
   ],
   "source": [
    "# unique values of target variable\n",
    "print(np.unique(cali_target))\n",
    "\n",
    "# histogram of target variable\n",
    "import matplotlib.pyplot as plt\n",
    "n, bins, patches = plt.hist(cali_target, 50, facecolor='green', alpha=0.75)\n",
    "plt.show()\n"
   ]
  },
  {
   "cell_type": "markdown",
   "metadata": {},
   "source": [
    "So it seems that the target variable is a continuous variable roughly in the range of [0,5] interval(Although the big jump at 5 seems very suspicious). Why? well there seems to be a continuous distribution of data points along this interval. While this point will be elaborated upon later on, having a continuous target variable makes this a __regression__ problem, as opposed to a __classification__ problem. \n",
    "\n",
    "So let's run a simple regression model called __linear regression__. Where do we find this model? Well sklearn, of course! Let's import linear regression.\n",
    " "
   ]
  },
  {
   "cell_type": "code",
   "execution_count": 5,
   "metadata": {
    "collapsed": true
   },
   "outputs": [],
   "source": [
    "from sklearn.linear_model import LinearRegression\n",
    "\n",
    "model = LinearRegression()"
   ]
  },
  {
   "cell_type": "markdown",
   "metadata": {},
   "source": [
    "So now I'll separate the data into two partitions called a __training set__ and a __validation set__ (often this is denoted as the __test set__, but strictly speaking this isn't the correct term to use). The model will only be trained using the training set and then tested on the validation set, for which we already know the target variable values. This way we simulate and evaluate performance of our model a situation where the model is given new data without a target variable."
   ]
  },
  {
   "cell_type": "code",
   "execution_count": 6,
   "metadata": {
    "collapsed": true
   },
   "outputs": [],
   "source": [
    "# Train, vaplidation split as 80% 20% of the data\n",
    "\n",
    "index = np.random.rand(len(cali_features)) < 0.8 \n",
    "\n",
    "train_features = cali_features[index]\n",
    "valid_features = cali_features[~index]\n",
    "\n",
    "train_target = cali_target[index]\n",
    "valid_target = cali_target[~index]"
   ]
  },
  {
   "cell_type": "markdown",
   "metadata": {},
   "source": [
    "Let's fit the linear regression model we created two cells up to this setup, and then estimate its predictive power on the validation set. We fit using the training set (X corresponds to features and y corresponds to the target variable, and then generating predictions using the features of the validation set."
   ]
  },
  {
   "cell_type": "code",
   "execution_count": 7,
   "metadata": {},
   "outputs": [
    {
     "data": {
      "text/plain": [
       "0.52386593557241279"
      ]
     },
     "execution_count": 7,
     "metadata": {},
     "output_type": "execute_result"
    }
   ],
   "source": [
    "# linear regression fit\n",
    "model = model.fit(X=train_features, y=train_target)\n",
    "\n",
    "# predict on validations using the validation features as input\n",
    "predictions = model.predict(X=valid_features)\n",
    "\n",
    "# generate a score for the effectiveness of model\n",
    "sklearn.metrics.mean_squared_error(y_true = valid_target, y_pred=predictions)"
   ]
  },
  {
   "cell_type": "markdown",
   "metadata": {},
   "source": [
    "Now there are many different ways to compare the generated predictions, but for simplicity we will use one feature, which is the root mean-squared error, as defined below.\n",
    "\n",
    "![mean squared error](https://www.researchgate.net/profile/Alexandros_Karatzoglou/publication/221515860/figure/fig1/AS:339586132791298@1457975051470/Figure-1-Mean-Squared-Error-formula-used-to-evaluate-the-user-model.ppm)\n",
    "\n",
    "To explain, this is the __mean squared difference__ between the __predicted value__ and the __actual value__. Why we use this value will be explained later on, but it is a useful accuracy metric to gauge the effectiveness of a machine learning model. All that matters is that the lower this value - or in other words closer to 0 - the more this model is considered effective. \n",
    "\n",
    "So what does this all mean, and why did we do it in this step anyway?\n"
   ]
  },
  {
   "cell_type": "markdown",
   "metadata": {},
   "source": [
    "## What is Supervised Learning?\n",
    "\n",
    "Supervised learning is the process of learning an unknown relationship between a set of feature variables and a target variable."
   ]
  },
  {
   "cell_type": "markdown",
   "metadata": {},
   "source": [
    "## Our Objectives in Order"
   ]
  },
  {
   "cell_type": "markdown",
   "metadata": {},
   "source": [
    "All machine learning problems are optimization problems, especially with respect to supervised learning. Now, when we optimize, we want to end up with the ideal solution - or as close as we can get - with respect to our chosen model. \n",
    "\n",
    "We formally define this solution using something called an objective function. The format of an objective function is usually as follows: \\begin{align*}\n",
    "    minimize\\ OBJ(x)\\\\\n",
    "    maximize\\ OBJ(x)\n",
    "\\end{align*}\n",
    "\n",
    "These objectives will be subject to some set of constraints, which serve to both change our ideal solution, and to make it more difficult to find.\n",
    "\n",
    "Your choice in objective function is in a sense an assumption you make about the identity of your ideal solution - any two objective functions may have different ideal solutions when maximized or minimized, so care must be taken when choosing which to use (in this course, you will experience this conundrum when having to pick appropriate models for a problem).\n",
    "\n",
    "In machine learning, we'll rarely, if ever, maximize an objective function when attempting to solve a problem. Instead of trying to maximize some metric for success, we'll instead define our objective function as an estimate of our error; in attempting to minimize this error function, we will at the same time increase the accuracy of our model, and hopefully achieve as accurate of a prediction as we can get."
   ]
  },
  {
   "cell_type": "markdown",
   "metadata": {},
   "source": [
    "## Linear Regression "
   ]
  },
  {
   "cell_type": "markdown",
   "metadata": {},
   "source": [
    "Linear regression is an abundantly simple model which may very well have come up in one of your math classes in  the past. It is approachable and serves as a starting point for many other machine learning techniques, making it ideal to start with as an introduction to Regression.\n",
    "\n",
    "Linear Regression is quite straightfoward - you are fitting a line to your data, full stop"
   ]
  },
  {
   "cell_type": "code",
   "execution_count": 18,
   "metadata": {},
   "outputs": [
    {
     "data": {
      "image/png": "[encoded data removed]",
      "text/plain": [
       "<matplotlib.figure.Figure at 0x7f45bd0f9240>"
      ]
     },
     "metadata": {},
     "output_type": "display_data"
    }
   ],
   "source": [
    "x = np.expand_dims(np.linspace(0,20, 21), axis=1)\n",
    "error =  np.expand_dims(np.random.rand(21)  * 20, axis=1)\n",
    "y = 7 + np.pi * x + error\n",
    "\n",
    "model = LinearRegression()\n",
    "model.fit(x, y)\n",
    "predictions = model.predict(x)\n",
    "\n",
    "plt.figure()\n",
    "plt.scatter(x,y)\n",
    "plt.plot(x, predictions)\n",
    "plt.show()"
   ]
  },
  {
   "cell_type": "markdown",
   "metadata": {},
   "source": [
    "A linear regression model is an equation in the form of: \n",
    "$$y = \\beta_0 + \\beta_1 x_1 + \\ldots{} + \\beta_p x_p + \\epsilon$$\n",
    "\n",
    "This establishes a number of assumptions we make when deciding to use linear regression. \n",
    "\n",
    "First, we assume that there is a linear relationship in the data - $\\beta$, the coefficient vector, does not directly rely on any $x_i$. Instead, it holds the weights given to each $x_i$, as well as the bias term $\\beta_0$. \n",
    "\n",
    "The second assumption we make, is that there is some amount of irreducible noise $\\epsilon$, which introduces random error to our model. However, our third assumption states that this noise is normally distributed about the line drawn.\n",
    "\n",
    "While this information is all well and good, you're probably just wondering how we go about fitting this line to our data. In this case, we need to set values for the elements of $\\beta$ in order to adjust the orientation of our line. This is where things tie back in to the earlier section on objective functions. We optimize our values of $\\beta$ by minimizing our objective function; in particular, linear regression makes use of an objective function known as Least Squares Error: \\begin{align*}\n",
    "    OBJ(x) \n",
    "    &= \\Sigma{}_{i = 0}^n (y_i - \\hat{y}_i)^2\\\\\n",
    "    &= \\Sigma{}_{i = 0}^n (y_i - (\\beta_0 + \\beta_1 x_1 + \\ldots{} + \\beta_p x_p))^2\n",
    "\\end{align*}"
   ]
  }
 ],
 "metadata": {
  "kernelspec": {
   "display_name": "Python 3",
   "language": "python",
   "name": "python3"
  },
  "language_info": {
   "codemirror_mode": {
    "name": "ipython",
    "version": 3
   },
   "file_extension": ".py",
   "mimetype": "text/x-python",
   "name": "python",
   "nbconvert_exporter": "python",
   "pygments_lexer": "ipython3",
   "version": "3.6.1"
  }
 },
 "nbformat": 4,
 "nbformat_minor": 2
}
